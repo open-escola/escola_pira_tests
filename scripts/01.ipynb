{
 "cells": [
  {
   "cell_type": "code",
   "execution_count": null,
   "metadata": {},
   "outputs": [],
   "source": [
    "#!pip3 install traquitanas --upgradebbbb"
   ]
  },
  {
   "cell_type": "code",
   "execution_count": null,
   "metadata": {},
   "outputs": [],
   "source": [
    "import os\n",
    "import time\n",
    "import shutil\n",
    "from datetime import date"
   ]
  },
  {
   "cell_type": "code",
   "execution_count": null,
   "metadata": {},
   "outputs": [],
   "source": [
    "from traquitanas import net"
   ]
  },
  {
   "cell_type": "code",
   "execution_count": null,
   "metadata": {},
   "outputs": [],
   "source": [
    "from selenium.webdriver.common.by import By\n",
    "from selenium.webdriver.support.ui import Select\n",
    "from selenium.webdriver.support.ui import WebDriverWait\n",
    "from selenium.webdriver.support import expected_conditions as EC"
   ]
  },
  {
   "cell_type": "code",
   "execution_count": null,
   "metadata": {},
   "outputs": [],
   "source": [
    "from paths import *"
   ]
  },
  {
   "cell_type": "code",
   "execution_count": null,
   "metadata": {},
   "outputs": [],
   "source": [
    "download_path = os.path.abspath(os.path.join(os.getcwd(), bruto_path, 'temp'))\n",
    "print(download_path)\n",
    "\n",
    "driver = net.scraping.create_driver(\n",
    "    download_path,\n",
    "    headless=False,\n",
    "    adds_path=os.path.join('..', 'scrapy', 'adds'),\n",
    "    log_path=os.path.join('..', 'scrapy', 'logs')\n",
    ")"
   ]
  },
  {
   "cell_type": "code",
   "execution_count": null,
   "metadata": {},
   "outputs": [],
   "source": [
    "url = 'https://openescola.herokuapp.com/'\n",
    "#url = 'https://www.uol.com.br/'\n",
    "driver.get(url)"
   ]
  },
  {
   "cell_type": "code",
   "execution_count": null,
   "metadata": {},
   "outputs": [],
   "source": [
    "email = driver.find_element(by=By.XPATH, value=\"//input[@name='email']\")\n",
    "password = driver.find_element(by=By.XPATH, value=\"//input[@name='password']\")"
   ]
  },
  {
   "cell_type": "code",
   "execution_count": null,
   "metadata": {},
   "outputs": [],
   "source": [
    "email.clear()\n",
    "email.send_keys('admin@gmail.com')\n",
    "password.clear()\n",
    "password.send_keys('111')"
   ]
  },
  {
   "cell_type": "code",
   "execution_count": null,
   "metadata": {},
   "outputs": [],
   "source": [
    "driver.find_element(by=By.XPATH, value=\"//button[@class='btn btn-primary btn-block']\").click()"
   ]
  },
  {
   "cell_type": "code",
   "execution_count": null,
   "metadata": {},
   "outputs": [],
   "source": [
    "# Checar se fez o login corretamente e apaecer o nome Escola Pira!\n",
    "driver.find_element(by=By.XPATH, value=\"//*[@class='brand-text font-weight-light']\").text\n",
    "\n",
    "driver.current_url"
   ]
  },
  {
   "cell_type": "code",
   "execution_count": null,
   "metadata": {},
   "outputs": [],
   "source": [
    "menu_lateral = driver.find_element(by=By.XPATH, value=\"//*[@class='nav nav-pills nav-sidebar flex-column']\")\n",
    "menu_lateral_itens = menu_lateral.find_elements(by=By.XPATH, value=\".//*[contains(@class,'nav-link')]//p\")\n",
    "\n",
    "for i in menu_lateral_itens:\n",
    "    texto = i.text\n",
    "    texto = texto.split('\\n')\n",
    "\n",
    "    if 'Alunos' in texto:\n",
    "        # sss\n",
    "        parent = i.find_element(by=By.XPATH, value=\".//../..\")\n",
    "\n",
    "        # \n",
    "        if parent.get_attribute('class').find('menu-open') == -1:\n",
    "            i.click()\n",
    "            time.sleep(2)\n",
    "            break"
   ]
  },
  {
   "cell_type": "code",
   "execution_count": null,
   "metadata": {},
   "outputs": [],
   "source": [
    "i.get_attribute('innerHTML')"
   ]
  },
  {
   "cell_type": "code",
   "execution_count": null,
   "metadata": {},
   "outputs": [],
   "source": [
    "# Adicionar Aluno\n",
    "#.//../../*[@href='/add_student']\n",
    "elem_adicionar = driver.find_element(by=By.XPATH, value=\"//*[@href='/add_student']\")\n",
    "elem_adicionar.get_attribute('innerHTML')\n",
    "elem_adicionar.click()"
   ]
  },
  {
   "cell_type": "code",
   "execution_count": null,
   "metadata": {},
   "outputs": [],
   "source": [
    "list_itens_menu = menu_lateral.find_elements(by=By.XPATH, value=\".//*[@class='nav-item has-treeview ']\")\n",
    "for x in list_itens_menu:\n",
    "    print(x.text)"
   ]
  },
  {
   "cell_type": "code",
   "execution_count": null,
   "metadata": {},
   "outputs": [],
   "source": []
  }
 ],
 "metadata": {
  "interpreter": {
   "hash": "2bdda54bf0f28693adab761d90c570fb0a7faa3609b365313c0b5d078440c060"
  },
  "kernelspec": {
   "display_name": "Python 3 (ipykernel)",
   "language": "python",
   "name": "python3"
  },
  "language_info": {
   "codemirror_mode": {
    "name": "ipython",
    "version": 3
   },
   "file_extension": ".py",
   "mimetype": "text/x-python",
   "name": "python",
   "nbconvert_exporter": "python",
   "pygments_lexer": "ipython3",
   "version": "3.9.12"
  }
 },
 "nbformat": 4,
 "nbformat_minor": 4
}
